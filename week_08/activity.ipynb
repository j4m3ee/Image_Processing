{
 "cells": [
  {
   "cell_type": "code",
   "execution_count": 1,
   "metadata": {},
   "outputs": [],
   "source": [
    "import numpy as np\n",
    "import cv2\n",
    "from matplotlib import pyplot as plt\n",
    "import glob\n",
    "from keras.preprocessing import image\n",
    "from scipy import spatial"
   ]
  },
  {
   "cell_type": "markdown",
   "metadata": {},
   "source": [
    "**8.1.1 Prepare main image feature**"
   ]
  },
  {
   "cell_type": "code",
   "execution_count": null,
   "metadata": {},
   "outputs": [],
   "source": [
    "# Load main image\n",
    "main_image = cv2.imread('./pic.jpg')\n",
    "img = cv2.cvtColor(main_image,cv2.COLOR_BGR2RGB)\n",
    "h, w, c = main_image.shape\n",
    "\n",
    "# Define tile size \n",
    "grid_size = 30\n",
    "tile_size = (grid_size,grid_size) # (Width,Height)\n",
    "\n",
    "# Create main image feature grid of subimage\n",
    "# Calculate average (mean) color of each subimage with tile_size\n",
    "\n",
    "main_image_feature(i,j) = main_image(i*tile_size.shape[0] : (i+1)*tile_size.shape[0],\n",
    "                                        j*tile_size.shape[1] : (j+1)*tile_size.shape[1].mean(axis=0,1))\n"
   ]
  },
  {
   "cell_type": "markdown",
   "metadata": {},
   "source": [
    "**8.1.2 Prepare tile images and features**"
   ]
  },
  {
   "cell_type": "code",
   "execution_count": null,
   "metadata": {},
   "outputs": [],
   "source": [
    "filenames = glob.glob('Background/*.jpg', recursive=True)\n",
    "\n",
    "# Load image files and Resize (h,w,ch) -> h = w < 100 , ch = 3 (R,G,B)\n",
    "# Convert the image to an array\n",
    "# Normalized color image\n",
    "tiles = []\n",
    "for i in filenames:\n",
    "    img = image.load_img(i, target_size=tile_size)\n",
    "    # img = image.img_to_array(img)\n",
    "    # img = img / 255\n",
    "    tiles.append(img)\n",
    "\n",
    "# Convert to numpy array\n",
    "# all_images = np.array(all_images)\n",
    "\n",
    "# Create array of average(mean) color of each tile image\n",
    "\n",
    "tile_features = []\n",
    "for tile in tiles:\n",
    "    mean_color = np.array(tile).mean(axis=(0,1))\n",
    "    tile_features.append(mean_color)"
   ]
  },
  {
   "cell_type": "markdown",
   "metadata": {},
   "source": [
    "**8.2 Image clustering and Matching using KNN with KDTree Algorithm**"
   ]
  },
  {
   "cell_type": "code",
   "execution_count": null,
   "metadata": {},
   "outputs": [],
   "source": [
    "# Create KDTree of tile color features\n",
    "tree = spatial.KDTree(tile_features)\n",
    "\n",
    "#KNN (k=1) search for best mathched tiles with each subimage\n",
    "for i in range(h):\n",
    "    for j in range(w):\n",
    "        closet = tree.query(main_image_feature[i,j])\n",
    "        closest_tiles[i,j] = closest[1]"
   ]
  },
  {
   "cell_type": "markdown",
   "metadata": {},
   "source": [
    "**8.3 Create image mosaic**"
   ]
  },
  {
   "cell_type": "code",
   "execution_count": null,
   "metadata": {},
   "outputs": [],
   "source": [
    "# Fill each subimage with matched tile\n",
    "\n",
    "# Offset of tile\n",
    "x,y = i*tile_size[0], j*tile_size[1]\n",
    "\n",
    "# Index of tile\n",
    "index = closet_tiles[i,j]\n",
    "main_photo[x:(x+tile_size[0]),y:(y+tile_size[1]),:] = tile[index]"
   ]
  }
 ],
 "metadata": {
  "interpreter": {
   "hash": "4c9817c768d2378ae966595e07408974f264cea7e5676cc9a5b6de60f1009920"
  },
  "kernelspec": {
   "display_name": "Python 3.9.7 ('base')",
   "language": "python",
   "name": "python3"
  },
  "language_info": {
   "codemirror_mode": {
    "name": "ipython",
    "version": 3
   },
   "file_extension": ".py",
   "mimetype": "text/x-python",
   "name": "python",
   "nbconvert_exporter": "python",
   "pygments_lexer": "ipython3",
   "version": "3.9.7"
  },
  "orig_nbformat": 4
 },
 "nbformat": 4,
 "nbformat_minor": 2
}
