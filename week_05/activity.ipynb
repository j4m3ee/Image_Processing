{
 "cells": [
  {
   "cell_type": "markdown",
   "metadata": {},
   "source": []
  },
  {
   "cell_type": "code",
   "execution_count": 1,
   "metadata": {},
   "outputs": [],
   "source": [
    "import numpy as np\n",
    "import cv2\n",
    "from matplotlib import pyplot as plt\n",
    "from keras.models import Model, Input\n",
    "from tensorflow.keras.layers import Dense, Conv2D, MaxPool2D, UpSampling2D\n",
    "from tensorflow.keras.callbacks import EarlyStopping\n",
    "from keras.preprocessing import image\n",
    "from sklearn.model_selection import train_test_split\n",
    "import glob"
   ]
  },
  {
   "cell_type": "markdown",
   "metadata": {},
   "source": [
    "**5.1 Data Preparation**"
   ]
  },
  {
   "cell_type": "code",
   "execution_count": 4,
   "metadata": {},
   "outputs": [],
   "source": [
    "# List all filename in face image path\n",
    "filenames = glob.glob('*.jpg')\n",
    "\n",
    "# Load image files and Resize (h,w,ch) -> h = w < 100 , ch = 3 (R,G,B)\n",
    "\n",
    "# Convert the image to an array\n",
    "\n",
    "# Normalized color image\n"
   ]
  },
  {
   "cell_type": "markdown",
   "metadata": {},
   "source": [
    "**5.2 ADD Noise**"
   ]
  },
  {
   "cell_type": "code",
   "execution_count": null,
   "metadata": {},
   "outputs": [],
   "source": [
    "# Add Noise\n",
    "#   Scala between 0-1\n",
    "noise_factor = 0.1 \n",
    "\n",
    "# กำหนด noise parameter\n",
    "\n",
    "\n",
    "# Use np.random.normal to generate normal distribution (gaussian) noise"
   ]
  },
  {
   "cell_type": "markdown",
   "metadata": {},
   "source": [
    "**5.3 Autoencoder Model**"
   ]
  },
  {
   "cell_type": "code",
   "execution_count": null,
   "metadata": {},
   "outputs": [],
   "source": [
    "# กำหนด Encoder Architecture"
   ]
  }
 ],
 "metadata": {
  "interpreter": {
   "hash": "6b7cad2a6208b97433290a44b5342969fbeadf08a9b2cf141529fe25163cc013"
  },
  "kernelspec": {
   "display_name": "Python 3.9.7 ('base')",
   "language": "python",
   "name": "python3"
  },
  "language_info": {
   "codemirror_mode": {
    "name": "ipython",
    "version": 3
   },
   "file_extension": ".py",
   "mimetype": "text/x-python",
   "name": "python",
   "nbconvert_exporter": "python",
   "pygments_lexer": "ipython3",
   "version": "3.9.7"
  },
  "orig_nbformat": 4
 },
 "nbformat": 4,
 "nbformat_minor": 2
}
