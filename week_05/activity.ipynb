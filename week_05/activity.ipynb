{
 "cells": [
  {
   "cell_type": "markdown",
   "metadata": {},
   "source": []
  },
  {
   "cell_type": "code",
   "execution_count": 5,
   "metadata": {},
   "outputs": [],
   "source": [
    "import numpy as np\n",
    "import cv2\n",
    "from matplotlib import pyplot as plt\n",
    "from keras.models import Model, Input\n",
    "from tensorflow.keras.layers import Dense, Conv2D, MaxPool2D, UpSampling2D\n",
    "from tensorflow.keras.callbacks import EarlyStopping\n",
    "from keras.preprocessing import image\n",
    "from sklearn.model_selection import train_test_split\n",
    "import glob"
   ]
  },
  {
   "cell_type": "markdown",
   "metadata": {},
   "source": [
    "**5.1 Data Preparation**"
   ]
  },
  {
   "cell_type": "code",
   "execution_count": 7,
   "metadata": {},
   "outputs": [
    {
     "ename": "TypeError",
     "evalue": "glob() missing 1 required positional argument: 'pathname'",
     "output_type": "error",
     "traceback": [
      "\u001b[0;31m---------------------------------------------------------------------------\u001b[0m",
      "\u001b[0;31mTypeError\u001b[0m                                 Traceback (most recent call last)",
      "\u001b[1;32m/Users/surawityosaeng/Works/Image_Processing/week_05/activity.ipynb Cell 4'\u001b[0m in \u001b[0;36m<module>\u001b[0;34m\u001b[0m\n\u001b[1;32m      <a href='vscode-notebook-cell:/Users/surawityosaeng/Works/Image_Processing/week_05/activity.ipynb#ch0000003?line=0'>1</a>\u001b[0m \u001b[39m# List all filename in face image path\u001b[39;00m\n\u001b[0;32m----> <a href='vscode-notebook-cell:/Users/surawityosaeng/Works/Image_Processing/week_05/activity.ipynb#ch0000003?line=1'>2</a>\u001b[0m filenames \u001b[39m=\u001b[39m glob\u001b[39m.\u001b[39;49mglob()\n",
      "\u001b[0;31mTypeError\u001b[0m: glob() missing 1 required positional argument: 'pathname'"
     ]
    }
   ],
   "source": [
    "# List all filename in face image path\n",
    "filenames = glob.glob('*.jpg')\n",
    "\n",
    "# Load image files and Resize (h,w,ch) -> h = w < 100 , ch = 3 (R,G,B)\n",
    "img = image.load_img(fname,target_size,interpolation=\"nearest\")\n",
    "# Convert the image to an array\n",
    "img = img.img_to_array(img)\n",
    "# Normalized color image\n",
    "img = img/255\n",
    "\n",
    "all_imgs = img.append()\n",
    "\n",
    "\n",
    "# Convert to numpy array\n",
    "all_imgs = np.array(all_imgs)\n",
    "\n",
    "# split data into train and validation data\n",
    "train_x, val_x = train_test_split(all_imgs,random_state=32,test_size=0.3)\n"
   ]
  },
  {
   "cell_type": "markdown",
   "metadata": {},
   "source": [
    "**5.2 ADD Noise**"
   ]
  },
  {
   "cell_type": "code",
   "execution_count": null,
   "metadata": {},
   "outputs": [],
   "source": [
    "# Add Noise\n",
    "#   Scala between 0-1\n",
    "noise_factor = 0.1 \n",
    "\n",
    "# กำหนด noise parameter\n",
    "\n",
    "\n",
    "# Use np.random.normal to generate normal distribution (gaussian) noise"
   ]
  },
  {
   "cell_type": "markdown",
   "metadata": {},
   "source": [
    "**5.3 Autoencoder Model**"
   ]
  },
  {
   "cell_type": "code",
   "execution_count": 6,
   "metadata": {},
   "outputs": [
    {
     "ename": "NameError",
     "evalue": "name 'autoencoder' is not defined",
     "output_type": "error",
     "traceback": [
      "\u001b[0;31m---------------------------------------------------------------------------\u001b[0m",
      "\u001b[0;31mNameError\u001b[0m                                 Traceback (most recent call last)",
      "\u001b[1;32m/Users/surawityosaeng/Works/Image_Processing/week_05/activity.ipynb Cell 8'\u001b[0m in \u001b[0;36m<module>\u001b[0;34m\u001b[0m\n\u001b[1;32m      <a href='vscode-notebook-cell:/Users/surawityosaeng/Works/Image_Processing/week_05/activity.ipynb#ch0000010?line=3'>4</a>\u001b[0m batch_size \u001b[39m=\u001b[39m \u001b[39m32\u001b[39m\n\u001b[1;32m      <a href='vscode-notebook-cell:/Users/surawityosaeng/Works/Image_Processing/week_05/activity.ipynb#ch0000010?line=4'>5</a>\u001b[0m early_stopper \u001b[39m=\u001b[39m EarlyStopping(monitor\u001b[39m=\u001b[39m\u001b[39m\"\u001b[39m\u001b[39mval_loss\u001b[39m\u001b[39m\"\u001b[39m,mode\u001b[39m=\u001b[39m\u001b[39m\"\u001b[39m\u001b[39mmin\u001b[39m\u001b[39m\"\u001b[39m,patience\u001b[39m=\u001b[39m\u001b[39m2\u001b[39m)\n\u001b[0;32m----> <a href='vscode-notebook-cell:/Users/surawityosaeng/Works/Image_Processing/week_05/activity.ipynb#ch0000010?line=6'>7</a>\u001b[0m history \u001b[39m=\u001b[39m autoencoder\u001b[39m.\u001b[39mfit(  x\u001b[39m=\u001b[39mx_train_noisy,\n\u001b[1;32m      <a href='vscode-notebook-cell:/Users/surawityosaeng/Works/Image_Processing/week_05/activity.ipynb#ch0000010?line=7'>8</a>\u001b[0m                             y\u001b[39m=\u001b[39mtrain_x,\n\u001b[1;32m      <a href='vscode-notebook-cell:/Users/surawityosaeng/Works/Image_Processing/week_05/activity.ipynb#ch0000010?line=8'>9</a>\u001b[0m                             batch_size\u001b[39m=\u001b[39mbatch_size,\n\u001b[1;32m     <a href='vscode-notebook-cell:/Users/surawityosaeng/Works/Image_Processing/week_05/activity.ipynb#ch0000010?line=9'>10</a>\u001b[0m                             epochs\u001b[39m=\u001b[39mepoch,\n\u001b[1;32m     <a href='vscode-notebook-cell:/Users/surawityosaeng/Works/Image_Processing/week_05/activity.ipynb#ch0000010?line=10'>11</a>\u001b[0m                             shuffle\u001b[39m=\u001b[39m\u001b[39mTrue\u001b[39;00m,\n\u001b[1;32m     <a href='vscode-notebook-cell:/Users/surawityosaeng/Works/Image_Processing/week_05/activity.ipynb#ch0000010?line=11'>12</a>\u001b[0m                             validation_data\u001b[39m=\u001b[39m(x_val_noisy,val_x),\n\u001b[1;32m     <a href='vscode-notebook-cell:/Users/surawityosaeng/Works/Image_Processing/week_05/activity.ipynb#ch0000010?line=12'>13</a>\u001b[0m                             callbacks\u001b[39m=\u001b[39m[early_stopper])\n",
      "\u001b[0;31mNameError\u001b[0m: name 'autoencoder' is not defined"
     ]
    }
   ],
   "source": [
    "# กำหนด Encoder Architecture\n",
    "\n",
    "epoch = 4\n",
    "batch_size = 32\n",
    "early_stopper = EarlyStopping(monitor=\"val_loss\",mode=\"min\",patience=2)\n",
    "\n",
    "history = autoencoder.fit(  x=x_train_noisy,\n",
    "                            y=train_x,\n",
    "                            batch_size=batch_size,\n",
    "                            epochs=epoch,\n",
    "                            shuffle=True,\n",
    "                            validation_data=(x_val_noisy,val_x),\n",
    "                            callbacks=[early_stopper])"
   ]
  }
 ],
 "metadata": {
  "interpreter": {
   "hash": "6b7cad2a6208b97433290a44b5342969fbeadf08a9b2cf141529fe25163cc013"
  },
  "kernelspec": {
   "display_name": "Python 3.9.7 ('base')",
   "language": "python",
   "name": "python3"
  },
  "language_info": {
   "codemirror_mode": {
    "name": "ipython",
    "version": 3
   },
   "file_extension": ".py",
   "mimetype": "text/x-python",
   "name": "python",
   "nbconvert_exporter": "python",
   "pygments_lexer": "ipython3",
   "version": "3.9.7"
  },
  "orig_nbformat": 4
 },
 "nbformat": 4,
 "nbformat_minor": 2
}
