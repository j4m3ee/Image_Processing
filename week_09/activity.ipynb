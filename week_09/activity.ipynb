{
 "cells": [
  {
   "cell_type": "code",
   "execution_count": 1,
   "metadata": {},
   "outputs": [],
   "source": [
    "import numpy as np\n",
    "import cv2\n",
    "from matplotlib import pyplot as pyplot\n",
    "import glob\n",
    "from keras.preprocessing import image\n",
    "from sklearn.cluster import KMeans\n",
    "from skimage.feature import hog\n",
    "from skimage import exposure\n",
    "from skimage.measure import label"
   ]
  },
  {
   "cell_type": "markdown",
   "metadata": {},
   "source": [
    "**9.1.1 View Hog Feature of Image**"
   ]
  },
  {
   "cell_type": "code",
   "execution_count": null,
   "metadata": {},
   "outputs": [],
   "source": [
    "# Load main images in dataset\n",
    "glob()\n",
    "img = cv2.imread()\n",
    "\n",
    "# Create Image Feature\n",
    "  # Bluring image to reduce noise\n",
    "blur = cv2.GaussianBlur(img,(5,5),0) #Gaussian Filtering\n",
    "\n",
    "# Calculate HoG of image\n",
    "fd, hog_image = hog(blur, orientations=9,pixels_per_cell=(8,8),cells_per_block=(2,2),visualize=True,multichannel=True)\n"
   ]
  },
  {
   "cell_type": "markdown",
   "metadata": {},
   "source": [
    "**9.1.2 Prepare Hog Feature of Subimages**"
   ]
  },
  {
   "cell_type": "code",
   "execution_count": null,
   "metadata": {},
   "outputs": [],
   "source": [
    "# Define block size for subimage\n",
    "height, width = [40, 60], [20, 30, 40]\n",
    "Block_size = (height[0], width[0])\n",
    "\n",
    "# Define stride (ระยะขยับ pixel เพื่อทำ sliding window เพื่อคำนวณ HoG)\n",
    "tx, ty = 0, 0\n",
    "Stride = (tx, ty)"
   ]
  },
  {
   "cell_type": "code",
   "execution_count": null,
   "metadata": {},
   "outputs": [],
   "source": [
    "# Define Sliding window position of row, column (Top left position)\n",
    "posRow = np.arrange(0,h - Block_size[0]+1,Stride[0])\n",
    "posCol = np.arrange(0,w - tile_size[1]+1,Stride[1])"
   ]
  },
  {
   "cell_type": "code",
   "execution_count": null,
   "metadata": {},
   "outputs": [],
   "source": [
    "# Create subimage feature\n",
    "    # Calculate HoG of each subimage in Sliding window\n",
    "hogfeatures = []\n",
    "\n",
    "for i in posRow:\n",
    "    for j in posCol:\n",
    "        startH = posRow[i]\n",
    "        endH = posRow[i] + Block_size[0]\n",
    "        startW = posCol[j]\n",
    "        endW = posCol[j] + Block_size[0]\n",
    "        subImg = img[startH:endH,startW,endW]\n",
    "\n",
    "        # blur = cv2.GaussianBlur(subImg,(5,5),0) # Gaussian Filtering\n",
    "        fd, hog_image = hog(blur,orientations=0, pixels_per_cell=(4,4), cells_per_block=(2,2), visualize=True, multichannel=True)\n",
    "        hogfeatures.append(fd)"
   ]
  },
  {
   "cell_type": "markdown",
   "metadata": {},
   "source": [
    "**9.2 Image Segmentation Using K-mean clustering**"
   ]
  },
  {
   "cell_type": "markdown",
   "metadata": {},
   "source": [
    "**9.2.1 K-Mean Clustering**"
   ]
  },
  {
   "cell_type": "code",
   "execution_count": null,
   "metadata": {},
   "outputs": [],
   "source": [
    "# Clean feature if NA\n",
    "# fillna(0)\n",
    "\n",
    "# K-mean Clustering\n",
    "N=2\n",
    "kmeans = KMeans(n_clusters=N,random_state=0)\n",
    "clusters = kmeans.fit_predict(hogfeatures)"
   ]
  },
  {
   "cell_type": "markdown",
   "metadata": {},
   "source": [
    "**9.2.2 Region Of Interest (ROI)**"
   ]
  },
  {
   "cell_type": "code",
   "execution_count": null,
   "metadata": {},
   "outputs": [],
   "source": [
    "# Reshape clusterID result to Grid\n",
    "cluster_array = clusters.reshape(len(posR),len(posH))\n",
    "\n",
    "# View cluster_array Result\n",
    "print(cluster_array)\n",
    "cv2.imshow(cluster_array)"
   ]
  },
  {
   "cell_type": "markdown",
   "metadata": {},
   "source": [
    "**9.3 ROI: Region of Interest Drawing ROI bounding box**"
   ]
  },
  {
   "cell_type": "markdown",
   "metadata": {},
   "source": [
    "**9.3.1 K-MEAN Clustering**"
   ]
  },
  {
   "cell_type": "code",
   "execution_count": null,
   "metadata": {},
   "outputs": [],
   "source": [
    "# ReAssign Label in case of multiple ROIs with the same clusterID\n",
    "all_labels = measure.label(cluster_array)\n",
    "\n",
    "# Define bounding box parameter\n",
    "Color = (255,0,0)\n",
    "Thickness = 1"
   ]
  },
  {
   "cell_type": "code",
   "execution_count": null,
   "metadata": {},
   "outputs": [],
   "source": [
    "# ROI bounding box\n",
    "nClass = np.unique(all_labels)\n",
    "for i in nClass:\n",
    "    # calculate from grig to actual position\n",
    "    objPos = np.argwhere(all_labels == i)\n",
    "    startBlockH = objPos[:,0].min()\n",
    "    endBlockH = objPos[:,0].max()\n",
    "    startBlockW = objPos[:,1].min()\n",
    "    endBlockW = objPos[:,1].max()\n",
    "    startF = (posCol[startBlockW],posRow[startBlockH])\n",
    "    endF = (posCol[endBlockW] + Block_size[1], posRow[endBlockH] + Block_size[0])\n",
    "\n",
    "    # draw regtangle boundary\n",
    "    ROI_bounding_img = cv2.rectangle(imgDisplay,startF,endF,Color,Thickness)"
   ]
  }
 ],
 "metadata": {
  "interpreter": {
   "hash": "4c9817c768d2378ae966595e07408974f264cea7e5676cc9a5b6de60f1009920"
  },
  "kernelspec": {
   "display_name": "Python 3.9.7 ('base')",
   "language": "python",
   "name": "python3"
  },
  "language_info": {
   "codemirror_mode": {
    "name": "ipython",
    "version": 3
   },
   "file_extension": ".py",
   "mimetype": "text/x-python",
   "name": "python",
   "nbconvert_exporter": "python",
   "pygments_lexer": "ipython3",
   "version": "3.9.7"
  },
  "orig_nbformat": 4
 },
 "nbformat": 4,
 "nbformat_minor": 2
}
